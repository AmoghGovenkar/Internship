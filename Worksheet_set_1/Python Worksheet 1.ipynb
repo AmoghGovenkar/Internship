{
 "cells": [
  {
   "cell_type": "code",
   "execution_count": 47,
   "id": "6e10df52",
   "metadata": {},
   "outputs": [
    {
     "name": "stdout",
     "output_type": "stream",
     "text": [
      "Which of the following operators is used to calculate remainder in a division?\n",
      "Answer C) %\n"
     ]
    }
   ],
   "source": [
    "print (\"Which of the following operators is used to calculate remainder in a division?\")\n",
    "print (\"Answer C) %\" )"
   ]
  },
  {
   "cell_type": "code",
   "execution_count": 48,
   "id": "52508cb9",
   "metadata": {},
   "outputs": [
    {
     "name": "stdout",
     "output_type": "stream",
     "text": [
      "In python 2//3 is equal to?\n",
      "Answer B) 0\n"
     ]
    }
   ],
   "source": [
    "print (\"In python 2//3 is equal to?\")\n",
    "\n",
    "print (\"Answer B) 0\")"
   ]
  },
  {
   "cell_type": "markdown",
   "id": "3c8aa435",
   "metadata": {},
   "source": [
    "2//3"
   ]
  },
  {
   "cell_type": "code",
   "execution_count": 49,
   "id": "33f87aa1",
   "metadata": {},
   "outputs": [
    {
     "data": {
      "text/plain": [
       "0"
      ]
     },
     "execution_count": 49,
     "metadata": {},
     "output_type": "execute_result"
    }
   ],
   "source": [
    "2//3"
   ]
  },
  {
   "cell_type": "code",
   "execution_count": 50,
   "id": "06b69e43",
   "metadata": {},
   "outputs": [
    {
     "name": "stdout",
     "output_type": "stream",
     "text": [
      "In python, 6<<2 is equal to?\n",
      "Answer C) 24\n"
     ]
    }
   ],
   "source": [
    "print (\"In python, 6<<2 is equal to?\")\n",
    "print (\"Answer C) 24\")"
   ]
  },
  {
   "cell_type": "code",
   "execution_count": 51,
   "id": "736047b1",
   "metadata": {},
   "outputs": [
    {
     "data": {
      "text/plain": [
       "24"
      ]
     },
     "execution_count": 51,
     "metadata": {},
     "output_type": "execute_result"
    }
   ],
   "source": [
    "6<<2"
   ]
  },
  {
   "cell_type": "code",
   "execution_count": 52,
   "id": "0575e25b",
   "metadata": {},
   "outputs": [
    {
     "name": "stdout",
     "output_type": "stream",
     "text": [
      "In python, 6&2 will give which of the following as output?\n",
      "Answer A) 2\n"
     ]
    }
   ],
   "source": [
    "print (\"In python, 6&2 will give which of the following as output?\")\n",
    "print (\"Answer A) 2\")"
   ]
  },
  {
   "cell_type": "code",
   "execution_count": 53,
   "id": "b6231e5d",
   "metadata": {},
   "outputs": [
    {
     "data": {
      "text/plain": [
       "2"
      ]
     },
     "execution_count": 53,
     "metadata": {},
     "output_type": "execute_result"
    }
   ],
   "source": [
    "6&2"
   ]
  },
  {
   "cell_type": "code",
   "execution_count": 54,
   "id": "61aeab0e",
   "metadata": {},
   "outputs": [
    {
     "name": "stdout",
     "output_type": "stream",
     "text": [
      "In python, 6|2 will give which of the following as output?\n",
      "Answer D) 6\n"
     ]
    }
   ],
   "source": [
    "print (\"In python, 6|2 will give which of the following as output?\")\n",
    "print (\"Answer D) 6\")"
   ]
  },
  {
   "cell_type": "code",
   "execution_count": 55,
   "id": "e18c54ba",
   "metadata": {},
   "outputs": [
    {
     "data": {
      "text/plain": [
       "6"
      ]
     },
     "execution_count": 55,
     "metadata": {},
     "output_type": "execute_result"
    }
   ],
   "source": [
    "6|2"
   ]
  },
  {
   "cell_type": "code",
   "execution_count": 56,
   "id": "e55e0905",
   "metadata": {},
   "outputs": [
    {
     "name": "stdout",
     "output_type": "stream",
     "text": [
      "What does the finally keyword denotes in python?\n",
      "Answer C) the finally block will be executed no matter if the try block raises an error or not.\n"
     ]
    }
   ],
   "source": [
    "print(\"What does the finally keyword denotes in python?\")\n",
    "print (\"Answer C) the finally block will be executed no matter if the try block raises an error or not.\")"
   ]
  },
  {
   "cell_type": "code",
   "execution_count": 57,
   "id": "063300c4",
   "metadata": {},
   "outputs": [
    {
     "name": "stdout",
     "output_type": "stream",
     "text": [
      "What does raise keyword is used for in python?\n",
      "Answer A) It is used to raise an exception.\n"
     ]
    }
   ],
   "source": [
    "print (\"What does raise keyword is used for in python?\")\n",
    "print (\"Answer A) It is used to raise an exception.\")"
   ]
  },
  {
   "cell_type": "code",
   "execution_count": 58,
   "id": "da9f0886",
   "metadata": {},
   "outputs": [
    {
     "name": "stdout",
     "output_type": "stream",
     "text": [
      "Which of the following is a common use case of yield keyword in python?\n",
      "Answer C) in defining a generator\n"
     ]
    }
   ],
   "source": [
    "print (\"Which of the following is a common use case of yield keyword in python?\")\n",
    "print (\"Answer C) in defining a generator\")"
   ]
  },
  {
   "cell_type": "code",
   "execution_count": 59,
   "id": "43e3afda",
   "metadata": {},
   "outputs": [
    {
     "name": "stdout",
     "output_type": "stream",
     "text": [
      "Which of the following are the valid variable names?\n",
      "Answer A)_abc and C) abc2\n"
     ]
    }
   ],
   "source": [
    "print (\"Which of the following are the valid variable names?\")\n",
    "print (\"Answer A)_abc and C) abc2\")"
   ]
  },
  {
   "cell_type": "code",
   "execution_count": 60,
   "id": "40ae710f",
   "metadata": {},
   "outputs": [
    {
     "name": "stdout",
     "output_type": "stream",
     "text": [
      "Which of the following are the keywords in python?\n",
      "Anwer A) yield B) raise\n"
     ]
    }
   ],
   "source": [
    "print (\"Which of the following are the keywords in python?\")\n",
    "print (\"Anwer A) yield B) raise\")"
   ]
  },
  {
   "cell_type": "code",
   "execution_count": 61,
   "id": "5872f5bb",
   "metadata": {},
   "outputs": [
    {
     "name": "stdout",
     "output_type": "stream",
     "text": [
      "Write a python program to find the factorial of a number.\n",
      "Solution:\n",
      "Enter a number: 9\n",
      "The factorial of 9 is 362880\n"
     ]
    }
   ],
   "source": [
    "print (\"Write a python program to find the factorial of a number.\")\n",
    "print (\"Solution:\")\n",
    "def factorial(num):\n",
    "    factorial = 1\n",
    "# check if the number is negative, positive or zero\n",
    "    if num < 0:\n",
    "        print(\"Factorial does not exist for negative numbers\")\n",
    "    elif num == 0:\n",
    "        print(\"The factorial of 0 is 1\")\n",
    "    else:\n",
    "        for i in range(1,num + 1):\n",
    "            factorial=factorial*i\n",
    "        print(\"The factorial of\",num,\"is\",factorial)\n",
    "\n",
    "num = int(input(\"Enter a number: \"))\n",
    "factorial(num)"
   ]
  },
  {
   "cell_type": "code",
   "execution_count": 62,
   "id": "a358e655",
   "metadata": {},
   "outputs": [
    {
     "name": "stdout",
     "output_type": "stream",
     "text": [
      "Write a python program to find whether a number is prime or composite.\n",
      "Solution:\n",
      "Enter any number : 7\n",
      "7 is a Prime number\n",
      "7 is a Prime number\n"
     ]
    }
   ],
   "source": [
    "print (\"Write a python program to find whether a number is prime or composite.\")\n",
    "print (\"Solution:\")\n",
    "num = int(input(\"Enter any number : \" ))\n",
    "\n",
    "if num < 1:\n",
    "    print(\"Number needs to be greater than 1\")\n",
    "elif num == 1:\n",
    "    print(num, \"is neither prime nor composite\")\n",
    "else:\n",
    "    for divisor in range(2, (num//2)+1):\n",
    "        if ( (num % divisor) == 0 ):\n",
    "            print(num, \" is a Composite Number\")\n",
    "            break\n",
    "        else:\n",
    "            print(num, \"is a Prime number\")"
   ]
  },
  {
   "cell_type": "code",
   "execution_count": 63,
   "id": "0d794939",
   "metadata": {},
   "outputs": [
    {
     "name": "stdout",
     "output_type": "stream",
     "text": [
      "Write a python program to check whether a given string is palindrome or not.\n",
      "Solution:\n",
      "Enter String civic\n",
      "the string is palindrome\n"
     ]
    }
   ],
   "source": [
    "print (\"Write a python program to check whether a given string is palindrome or not.\")\n",
    "print (\"Solution:\")\n",
    "a=input (\"Enter String \" )\n",
    "b=a[-1::-1]\n",
    "if(a==b):\n",
    "    print(\"the string is palindrome\")\n",
    "else:\n",
    "    print(\"The string is not a palindrome\")"
   ]
  },
  {
   "cell_type": "code",
   "execution_count": 64,
   "id": "e7d7e380",
   "metadata": {},
   "outputs": [
    {
     "name": "stdout",
     "output_type": "stream",
     "text": [
      "Write a Python program to get the third side of right-angled triangle from two given sides.\n"
     ]
    }
   ],
   "source": [
    "print (\"Write a Python program to get the third side of right-angled triangle from two given sides.\")"
   ]
  },
  {
   "cell_type": "code",
   "execution_count": 66,
   "id": "f43201ad",
   "metadata": {},
   "outputs": [
    {
     "name": "stdout",
     "output_type": "stream",
     "text": [
      "Write a python program to print the frequency of each of the characters present in a given string\n",
      "Solution:\n",
      "Enter any String Hey, where are you going?\n",
      "Enter search character h\n",
      "Number of times found = 1\n"
     ]
    }
   ],
   "source": [
    "print (\"Write a python program to print the frequency of each of the characters present in a given string\")\n",
    "print (\"Solution:\")\n",
    "s=input(\"Enter any String \" )\n",
    "ch = input(\"Enter search character \")\n",
    "f = 0\n",
    "for i in s:\n",
    "    if i == ch:\n",
    "        f=f+1\n",
    "print(\"Number of times found =\",f)"
   ]
  },
  {
   "cell_type": "code",
   "execution_count": null,
   "id": "0a2d6615",
   "metadata": {},
   "outputs": [],
   "source": []
  }
 ],
 "metadata": {
  "kernelspec": {
   "display_name": "Python 3 (ipykernel)",
   "language": "python",
   "name": "python3"
  },
  "language_info": {
   "codemirror_mode": {
    "name": "ipython",
    "version": 3
   },
   "file_extension": ".py",
   "mimetype": "text/x-python",
   "name": "python",
   "nbconvert_exporter": "python",
   "pygments_lexer": "ipython3",
   "version": "3.9.12"
  }
 },
 "nbformat": 4,
 "nbformat_minor": 5
}
