{
 "cells": [
  {
   "cell_type": "code",
   "execution_count": 3,
   "id": "57612a2d",
   "metadata": {},
   "outputs": [
    {
     "name": "stdout",
     "output_type": "stream",
     "text": [
      "Requirement already satisfied: selenium in c:\\users\\amogh\\anaconda3\\lib\\site-packages (4.6.0)\n",
      "Requirement already satisfied: trio-websocket~=0.9 in c:\\users\\amogh\\anaconda3\\lib\\site-packages (from selenium) (0.9.2)\n",
      "Requirement already satisfied: urllib3[socks]~=1.26 in c:\\users\\amogh\\anaconda3\\lib\\site-packages (from selenium) (1.26.11)\n",
      "Requirement already satisfied: certifi>=2021.10.8 in c:\\users\\amogh\\anaconda3\\lib\\site-packages (from selenium) (2022.9.14)\n",
      "Requirement already satisfied: trio~=0.17 in c:\\users\\amogh\\anaconda3\\lib\\site-packages (from selenium) (0.22.0)\n",
      "Requirement already satisfied: async-generator>=1.9 in c:\\users\\amogh\\anaconda3\\lib\\site-packages (from trio~=0.17->selenium) (1.10)\n",
      "Requirement already satisfied: exceptiongroup>=1.0.0rc9 in c:\\users\\amogh\\anaconda3\\lib\\site-packages (from trio~=0.17->selenium) (1.0.1)\n",
      "Requirement already satisfied: sniffio in c:\\users\\amogh\\anaconda3\\lib\\site-packages (from trio~=0.17->selenium) (1.2.0)\n",
      "Requirement already satisfied: attrs>=19.2.0 in c:\\users\\amogh\\anaconda3\\lib\\site-packages (from trio~=0.17->selenium) (21.4.0)\n",
      "Requirement already satisfied: idna in c:\\users\\amogh\\anaconda3\\lib\\site-packages (from trio~=0.17->selenium) (3.3)\n",
      "Requirement already satisfied: outcome in c:\\users\\amogh\\anaconda3\\lib\\site-packages (from trio~=0.17->selenium) (1.2.0)\n",
      "Requirement already satisfied: sortedcontainers in c:\\users\\amogh\\anaconda3\\lib\\site-packages (from trio~=0.17->selenium) (2.4.0)\n",
      "Requirement already satisfied: cffi>=1.14 in c:\\users\\amogh\\anaconda3\\lib\\site-packages (from trio~=0.17->selenium) (1.15.1)\n",
      "Requirement already satisfied: wsproto>=0.14 in c:\\users\\amogh\\anaconda3\\lib\\site-packages (from trio-websocket~=0.9->selenium) (1.2.0)\n",
      "Requirement already satisfied: PySocks!=1.5.7,<2.0,>=1.5.6 in c:\\users\\amogh\\anaconda3\\lib\\site-packages (from urllib3[socks]~=1.26->selenium) (1.7.1)\n",
      "Requirement already satisfied: pycparser in c:\\users\\amogh\\anaconda3\\lib\\site-packages (from cffi>=1.14->trio~=0.17->selenium) (2.21)\n",
      "Requirement already satisfied: h11<1,>=0.9.0 in c:\\users\\amogh\\anaconda3\\lib\\site-packages (from wsproto>=0.14->trio-websocket~=0.9->selenium) (0.14.0)\n"
     ]
    }
   ],
   "source": [
    "!pip install selenium"
   ]
  },
  {
   "cell_type": "markdown",
   "id": "aee439bd",
   "metadata": {},
   "source": [
    "## Now we will download the webdriver for web browser \n",
    "the steps are as follows 1) Check browser version 2)open the link https://chromedriver.chromium.org/downloads   3)download the webdriver according to your web browser version"
   ]
  },
  {
   "cell_type": "code",
   "execution_count": 4,
   "id": "ce68a2bd",
   "metadata": {},
   "outputs": [],
   "source": [
    "# importing all required libraries\n",
    "import selenium\n",
    "from selenium import webdriver\n",
    "import pandas as pd\n",
    "from selenium.webdriver.common.by import By\n",
    "import warnings\n",
    "warnings.filterwarnings(\"ignore\")\n",
    "import time"
   ]
  },
  {
   "cell_type": "code",
   "execution_count": 5,
   "id": "76adf49c",
   "metadata": {},
   "outputs": [],
   "source": [
    "# Connecting to the web driver\n",
    "driver = webdriver.Chrome(r'C:\\Users\\amogh\\Downloads\\chromedriver_win32\\chromedriver.exe')"
   ]
  },
  {
   "cell_type": "code",
   "execution_count": 6,
   "id": "c4862e7a",
   "metadata": {},
   "outputs": [],
   "source": [
    "# Maximize the automated chrome window\n",
    "driver.maximize_window()"
   ]
  },
  {
   "cell_type": "code",
   "execution_count": 7,
   "id": "356f634b",
   "metadata": {},
   "outputs": [],
   "source": [
    "# opening the naukri.com website using automated chrome window\n",
    "url = 'https://www.naukri.com/'\n",
    "driver .get(url)"
   ]
  },
  {
   "cell_type": "code",
   "execution_count": 10,
   "id": "a8611652",
   "metadata": {},
   "outputs": [],
   "source": [
    "# finding web element for search job bar\n",
    "search_job = driver.find_element(By.CLASS_NAME,\"suggestor-input\")\n",
    "search_job.send_keys(\"Data Analyst\")"
   ]
  },
  {
   "cell_type": "code",
   "execution_count": 12,
   "id": "cdf95517",
   "metadata": {},
   "outputs": [],
   "source": [
    "# finding web element for search location bar using absolute xpath\n",
    "search_locn = driver.find_element(By.XPATH,'/html/body/div[1]/div[6]/div/div/div[5]/div/div/div/input')\n",
    "search_locn.send_keys(\"Bangalore\")"
   ]
  },
  {
   "cell_type": "code",
   "execution_count": 15,
   "id": "2d423d49",
   "metadata": {},
   "outputs": [],
   "source": [
    "# clicking using absolute xpath function\n",
    "search_btn = driver.find_element(By.CLASS_NAME,\"qsbSubmit\")\n",
    "search_btn.click()"
   ]
  },
  {
   "cell_type": "markdown",
   "id": "49f5e5f3",
   "metadata": {},
   "source": [
    "# Extracting Job titles"
   ]
  },
  {
   "cell_type": "code",
   "execution_count": 32,
   "id": "eb0800c3",
   "metadata": {},
   "outputs": [
    {
     "data": {
      "text/plain": [
       "10"
      ]
     },
     "execution_count": 32,
     "metadata": {},
     "output_type": "execute_result"
    }
   ],
   "source": [
    "# Let's extract all web elements having job titles\n",
    "job_titles = []\n",
    "title_tags = driver.find_elements(By.XPATH,\"//a[@class='title fw500 ellipsis']\")\n",
    "for i in title_tags[0:10]:\n",
    "    job_titles.append(i.text)\n",
    "len(job_titles)"
   ]
  },
  {
   "cell_type": "code",
   "execution_count": 33,
   "id": "ce03aeec",
   "metadata": {},
   "outputs": [
    {
     "data": {
      "text/plain": [
       "['APRP Manager / Senior Data Analyst - MeritTrac Services',\n",
       " 'Senior Data Analyst - PLM Data Migration',\n",
       " 'Associate Healthcare Research & Data Analyst',\n",
       " 'Lead Data Analyst',\n",
       " 'Contractual Hiring For Top MNC || Business Data Analyst || Bangalore',\n",
       " 'Master Data Management Business Analyst',\n",
       " 'Data Analyst',\n",
       " 'Sr. Data Analyst (SAS Data Management)',\n",
       " 'Data Analyst',\n",
       " 'Data Analyst']"
      ]
     },
     "execution_count": 33,
     "metadata": {},
     "output_type": "execute_result"
    }
   ],
   "source": [
    "job_titles"
   ]
  },
  {
   "cell_type": "markdown",
   "id": "85cb9d4a",
   "metadata": {},
   "source": [
    "# Extracting Company Names"
   ]
  },
  {
   "cell_type": "code",
   "execution_count": 34,
   "id": "8c2a35b4",
   "metadata": {},
   "outputs": [
    {
     "data": {
      "text/plain": [
       "['MeritTrac',\n",
       " 'CGI',\n",
       " 'Clarivate',\n",
       " 'Mobile Premier League (MPL)',\n",
       " 'TeamLease',\n",
       " 'Accenture',\n",
       " 'Elasticsearch',\n",
       " 'NMS Consultant',\n",
       " 'IBM',\n",
       " 'IBM']"
      ]
     },
     "execution_count": 34,
     "metadata": {},
     "output_type": "execute_result"
    }
   ],
   "source": [
    "company_names = []\n",
    "company_tags = driver.find_elements(By.XPATH,'//a[@class=\"subTitle ellipsis fleft\"]')\n",
    "for i in company_tags[0:10]:\n",
    "    company_names.append(i.text)\n",
    "company_names"
   ]
  },
  {
   "cell_type": "code",
   "execution_count": 35,
   "id": "45f03b42",
   "metadata": {},
   "outputs": [
    {
     "data": {
      "text/plain": [
       "10"
      ]
     },
     "execution_count": 35,
     "metadata": {},
     "output_type": "execute_result"
    }
   ],
   "source": [
    "len(company_names)"
   ]
  },
  {
   "cell_type": "markdown",
   "id": "78a0b0dc",
   "metadata": {},
   "source": [
    "# Extracting Experience"
   ]
  },
  {
   "cell_type": "code",
   "execution_count": 36,
   "id": "8978a258",
   "metadata": {},
   "outputs": [
    {
     "data": {
      "text/plain": [
       "10"
      ]
     },
     "execution_count": 36,
     "metadata": {},
     "output_type": "execute_result"
    }
   ],
   "source": [
    "# extracting all web elements having experience using parent tag\n",
    "experience = []\n",
    "exp_tags = driver.find_elements(By.XPATH,'//li[@class=\"fleft grey-text br2 placeHolderLi experience\"]')\n",
    "for i in exp_tags[0:10]:\n",
    "    experience.append(i.text)\n",
    "len(experience)"
   ]
  },
  {
   "cell_type": "markdown",
   "id": "ef92589f",
   "metadata": {},
   "source": [
    "# Extracting Location"
   ]
  },
  {
   "cell_type": "code",
   "execution_count": 37,
   "id": "eb39f77b",
   "metadata": {},
   "outputs": [
    {
     "data": {
      "text/plain": [
       "10"
      ]
     },
     "execution_count": 37,
     "metadata": {},
     "output_type": "execute_result"
    }
   ],
   "source": [
    "location = []\n",
    "locn_tags = driver.find_elements(By.XPATH,'//li[@class=\"fleft grey-text br2 placeHolderLi experience\"]')\n",
    "for i in locn_tags[0:10]:\n",
    "    location.append(i.text)\n",
    "len(location)"
   ]
  },
  {
   "cell_type": "code",
   "execution_count": 38,
   "id": "2b0b8762",
   "metadata": {},
   "outputs": [
    {
     "data": {
      "text/plain": [
       "(10, 10, 10, 10)"
      ]
     },
     "execution_count": 38,
     "metadata": {},
     "output_type": "execute_result"
    }
   ],
   "source": [
    "len(job_titles), len(company_names), len(experience), len(location)"
   ]
  },
  {
   "cell_type": "code",
   "execution_count": 40,
   "id": "bf03d580",
   "metadata": {},
   "outputs": [
    {
     "data": {
      "text/html": [
       "<div>\n",
       "<style scoped>\n",
       "    .dataframe tbody tr th:only-of-type {\n",
       "        vertical-align: middle;\n",
       "    }\n",
       "\n",
       "    .dataframe tbody tr th {\n",
       "        vertical-align: top;\n",
       "    }\n",
       "\n",
       "    .dataframe thead th {\n",
       "        text-align: right;\n",
       "    }\n",
       "</style>\n",
       "<table border=\"1\" class=\"dataframe\">\n",
       "  <thead>\n",
       "    <tr style=\"text-align: right;\">\n",
       "      <th></th>\n",
       "      <th>Job Title</th>\n",
       "      <th>Company</th>\n",
       "      <th>Experience</th>\n",
       "      <th>Location</th>\n",
       "    </tr>\n",
       "  </thead>\n",
       "  <tbody>\n",
       "    <tr>\n",
       "      <th>0</th>\n",
       "      <td>APRP Manager / Senior Data Analyst - MeritTrac...</td>\n",
       "      <td>MeritTrac</td>\n",
       "      <td>9-14 Yrs</td>\n",
       "      <td>9-14 Yrs</td>\n",
       "    </tr>\n",
       "    <tr>\n",
       "      <th>1</th>\n",
       "      <td>Senior Data Analyst - PLM Data Migration</td>\n",
       "      <td>CGI</td>\n",
       "      <td>3-6 Yrs</td>\n",
       "      <td>3-6 Yrs</td>\n",
       "    </tr>\n",
       "    <tr>\n",
       "      <th>2</th>\n",
       "      <td>Associate Healthcare Research &amp; Data Analyst</td>\n",
       "      <td>Clarivate</td>\n",
       "      <td>3-4 Yrs</td>\n",
       "      <td>3-4 Yrs</td>\n",
       "    </tr>\n",
       "    <tr>\n",
       "      <th>3</th>\n",
       "      <td>Lead Data Analyst</td>\n",
       "      <td>Mobile Premier League (MPL)</td>\n",
       "      <td>4-7 Yrs</td>\n",
       "      <td>4-7 Yrs</td>\n",
       "    </tr>\n",
       "    <tr>\n",
       "      <th>4</th>\n",
       "      <td>Contractual Hiring For Top MNC || Business Dat...</td>\n",
       "      <td>TeamLease</td>\n",
       "      <td>5-8 Yrs</td>\n",
       "      <td>5-8 Yrs</td>\n",
       "    </tr>\n",
       "    <tr>\n",
       "      <th>5</th>\n",
       "      <td>Master Data Management Business Analyst</td>\n",
       "      <td>Accenture</td>\n",
       "      <td>6-8 Yrs</td>\n",
       "      <td>6-8 Yrs</td>\n",
       "    </tr>\n",
       "    <tr>\n",
       "      <th>6</th>\n",
       "      <td>Data Analyst</td>\n",
       "      <td>Elasticsearch</td>\n",
       "      <td>2-5 Yrs</td>\n",
       "      <td>2-5 Yrs</td>\n",
       "    </tr>\n",
       "    <tr>\n",
       "      <th>7</th>\n",
       "      <td>Sr. Data Analyst (SAS Data Management)</td>\n",
       "      <td>NMS Consultant</td>\n",
       "      <td>5-10 Yrs</td>\n",
       "      <td>5-10 Yrs</td>\n",
       "    </tr>\n",
       "    <tr>\n",
       "      <th>8</th>\n",
       "      <td>Data Analyst</td>\n",
       "      <td>IBM</td>\n",
       "      <td>3-4 Yrs</td>\n",
       "      <td>3-4 Yrs</td>\n",
       "    </tr>\n",
       "    <tr>\n",
       "      <th>9</th>\n",
       "      <td>Data Analyst</td>\n",
       "      <td>IBM</td>\n",
       "      <td>3-4 Yrs</td>\n",
       "      <td>3-4 Yrs</td>\n",
       "    </tr>\n",
       "  </tbody>\n",
       "</table>\n",
       "</div>"
      ],
      "text/plain": [
       "                                           Job Title  \\\n",
       "0  APRP Manager / Senior Data Analyst - MeritTrac...   \n",
       "1           Senior Data Analyst - PLM Data Migration   \n",
       "2       Associate Healthcare Research & Data Analyst   \n",
       "3                                  Lead Data Analyst   \n",
       "4  Contractual Hiring For Top MNC || Business Dat...   \n",
       "5            Master Data Management Business Analyst   \n",
       "6                                       Data Analyst   \n",
       "7             Sr. Data Analyst (SAS Data Management)   \n",
       "8                                       Data Analyst   \n",
       "9                                       Data Analyst   \n",
       "\n",
       "                       Company Experience  Location  \n",
       "0                    MeritTrac   9-14 Yrs  9-14 Yrs  \n",
       "1                          CGI    3-6 Yrs   3-6 Yrs  \n",
       "2                    Clarivate    3-4 Yrs   3-4 Yrs  \n",
       "3  Mobile Premier League (MPL)    4-7 Yrs   4-7 Yrs  \n",
       "4                    TeamLease    5-8 Yrs   5-8 Yrs  \n",
       "5                    Accenture    6-8 Yrs   6-8 Yrs  \n",
       "6                Elasticsearch    2-5 Yrs   2-5 Yrs  \n",
       "7               NMS Consultant   5-10 Yrs  5-10 Yrs  \n",
       "8                          IBM    3-4 Yrs   3-4 Yrs  \n",
       "9                          IBM    3-4 Yrs   3-4 Yrs  "
      ]
     },
     "execution_count": 40,
     "metadata": {},
     "output_type": "execute_result"
    }
   ],
   "source": [
    "jobs = pd.DataFrame()\n",
    "jobs['Job Title'] = job_titles\n",
    "jobs['Company'] = company_names\n",
    "jobs['Experience'] = experience\n",
    "jobs['Location'] = location\n",
    "jobs"
   ]
  }
 ],
 "metadata": {
  "kernelspec": {
   "display_name": "Python 3 (ipykernel)",
   "language": "python",
   "name": "python3"
  },
  "language_info": {
   "codemirror_mode": {
    "name": "ipython",
    "version": 3
   },
   "file_extension": ".py",
   "mimetype": "text/x-python",
   "name": "python",
   "nbconvert_exporter": "python",
   "pygments_lexer": "ipython3",
   "version": "3.9.13"
  }
 },
 "nbformat": 4,
 "nbformat_minor": 5
}
