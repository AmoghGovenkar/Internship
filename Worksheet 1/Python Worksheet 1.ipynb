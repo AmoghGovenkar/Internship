{
 "cells": [
  {
   "cell_type": "code",
   "execution_count": 47,
   "id": "6e10df52",
   "metadata": {},
   "outputs": [
    {
     "name": "stdout",
     "output_type": "stream",
     "text": [
      "Which of the following operators is used to calculate remainder in a division?\n",
      "Answer C) %\n"
     ]
    }
   ],
   "source": [
    "print (\"Which of the following operators is used to calculate remainder in a division?\")\n",
    "print (\"Answer C) %\" )"
   ]
  },
  {
   "cell_type": "code",
   "execution_count": 48,
   "id": "52508cb9",
   "metadata": {},
   "outputs": [
    {
     "name": "stdout",
     "output_type": "stream",
     "text": [
      "In python 2//3 is equal to?\n",
      "Answer B) 0\n"
     ]
    }
   ],
   "source": [
    "print (\"In python 2//3 is equal to?\")\n",
    "\n",
    "print (\"Answer B) 0\")"
   ]
  },
  {
   "cell_type": "markdown",
   "id": "48088a5e",
   "metadata": {},
   "source": [
    "2//3"
   ]
  },
  {
   "cell_type": "code",
   "execution_count": 49,
   "id": "33f87aa1",
   "metadata": {},
   "outputs": [
    {
     "data": {
      "text/plain": [
       "0"
      ]
     },
     "execution_count": 49,
     "metadata": {},
     "output_type": "execute_result"
    }
   ],
   "source": [
    "2//3"
   ]
  },
  {
   "cell_type": "code",
   "execution_count": 50,
   "id": "06b69e43",
   "metadata": {},
   "outputs": [
    {
     "name": "stdout",
     "output_type": "stream",
     "text": [
      "In python, 6<<2 is equal to?\n",
      "Answer C) 24\n"
     ]
    }
   ],
   "source": [
    "print (\"In python, 6<<2 is equal to?\")\n",
    "print (\"Answer C) 24\")"
   ]
  },
  {
   "cell_type": "code",
   "execution_count": 51,
   "id": "5109752c",
   "metadata": {},
   "outputs": [
    {
     "data": {
      "text/plain": [
       "24"
      ]
     },
     "execution_count": 51,
     "metadata": {},
     "output_type": "execute_result"
    }
   ],
   "source": [
    "6<<2"
   ]
  },
  {
   "cell_type": "code",
   "execution_count": 52,
   "id": "9137996f",
   "metadata": {},
   "outputs": [
    {
     "name": "stdout",
     "output_type": "stream",
     "text": [
      "In python, 6&2 will give which of the following as output?\n",
      "Answer A) 2\n"
     ]
    }
   ],
   "source": [
    "print (\"In python, 6&2 will give which of the following as output?\")\n",
    "print (\"Answer A) 2\")"
   ]
  },
  {
   "cell_type": "code",
   "execution_count": 53,
   "id": "01a736d1",
   "metadata": {},
   "outputs": [
    {
     "data": {
      "text/plain": [
       "2"
      ]
     },
     "execution_count": 53,
     "metadata": {},
     "output_type": "execute_result"
    }
   ],
   "source": [
    "6&2"
   ]
  },
  {
   "cell_type": "code",
   "execution_count": 54,
   "id": "e7fdd357",
   "metadata": {},
   "outputs": [
    {
     "name": "stdout",
     "output_type": "stream",
     "text": [
      "In python, 6|2 will give which of the following as output?\n",
      "Answer D) 6\n"
     ]
    }
   ],
   "source": [
    "print (\"In python, 6|2 will give which of the following as output?\")\n",
    "print (\"Answer D) 6\")"
   ]
  },
  {
   "cell_type": "code",
   "execution_count": 55,
   "id": "9e98fa3e",
   "metadata": {},
   "outputs": [
    {
     "data": {
      "text/plain": [
       "6"
      ]
     },
     "execution_count": 55,
     "metadata": {},
     "output_type": "execute_result"
    }
   ],
   "source": [
    "6|2"
   ]
  },
  {
   "cell_type": "code",
   "execution_count": 56,
   "id": "734e241a",
   "metadata": {},
   "outputs": [
    {
     "name": "stdout",
     "output_type": "stream",
     "text": [
      "What does the finally keyword denotes in python?\n",
      "Answer C) the finally block will be executed no matter if the try block raises an error or not.\n"
     ]
    }
   ],
   "source": [
    "print(\"What does the finally keyword denotes in python?\")\n",
    "print (\"Answer C) the finally block will be executed no matter if the try block raises an error or not.\")"
   ]
  },
  {
   "cell_type": "code",
   "execution_count": 57,
   "id": "8f0919ac",
   "metadata": {},
   "outputs": [
    {
     "name": "stdout",
     "output_type": "stream",
     "text": [
      "What does raise keyword is used for in python?\n",
      "Answer A) It is used to raise an exception.\n"
     ]
    }
   ],
   "source": [
    "print (\"What does raise keyword is used for in python?\")\n",
    "print (\"Answer A) It is used to raise an exception.\")"
   ]
  },
  {
   "cell_type": "code",
   "execution_count": 58,
   "id": "3a93c293",
   "metadata": {},
   "outputs": [
    {
     "name": "stdout",
     "output_type": "stream",
     "text": [
      "Which of the following is a common use case of yield keyword in python?\n",
      "Answer C) in defining a generator\n"
     ]
    }
   ],
   "source": [
    "print (\"Which of the following is a common use case of yield keyword in python?\")\n",
    "print (\"Answer C) in defining a generator\")"
   ]
  },
  {
   "cell_type": "code",
   "execution_count": 59,
   "id": "6f7f1655",
   "metadata": {},
   "outputs": [
    {
     "name": "stdout",
     "output_type": "stream",
     "text": [
      "Which of the following are the valid variable names?\n",
      "Answer A)_abc and C) abc2\n"
     ]
    }
   ],
   "source": [
    "print (\"Which of the following are the valid variable names?\")\n",
    "print (\"Answer A)_abc and C) abc2\")"
   ]
  },
  {
   "cell_type": "code",
   "execution_count": 60,
   "id": "3b0e9934",
   "metadata": {},
   "outputs": [
    {
     "name": "stdout",
     "output_type": "stream",
     "text": [
      "Which of the following are the keywords in python?\n",
      "Anwer A) yield B) raise\n"
     ]
    }
   ],
   "source": [
    "print (\"Which of the following are the keywords in python?\")\n",
    "print (\"Anwer A) yield B) raise\")"
   ]
  },
  {
   "cell_type": "code",
   "execution_count": 61,
   "id": "9562612d",
   "metadata": {},
   "outputs": [
    {
     "name": "stdout",
     "output_type": "stream",
     "text": [
      "Write a python program to find the factorial of a number.\n",
      "Solution:\n",
      "Enter a number: 9\n",
      "The factorial of 9 is 362880\n"
     ]
    }
   ],
   "source": [
    "print (\"Write a python program to find the factorial of a number.\")\n",
    "print (\"Solution:\")\n",
    "def factorial(num):\n",
    "    factorial = 1\n",
    "# check if the number is negative, positive or zero\n",
    "    if num < 0:\n",
    "        print(\"Factorial does not exist for negative numbers\")\n",
    "    elif num == 0:\n",
    "        print(\"The factorial of 0 is 1\")\n",
    "    else:\n",
    "        for i in range(1,num + 1):\n",
    "            factorial=factorial*i\n",
    "        print(\"The factorial of\",num,\"is\",factorial)\n",
    "\n",
    "num = int(input(\"Enter a number: \"))\n",
    "factorial(num)"
   ]
  },
  {
   "cell_type": "code",
   "execution_count": 62,
   "id": "83bcb1cc",
   "metadata": {},
   "outputs": [
    {
     "name": "stdout",
     "output_type": "stream",
     "text": [
      "Write a python program to find whether a number is prime or composite.\n",
      "Solution:\n",
      "Enter any number : 7\n",
      "7 is a Prime number\n",
      "7 is a Prime number\n"
     ]
    }
   ],
   "source": [
    "print (\"Write a python program to find whether a number is prime or composite.\")\n",
    "print (\"Solution:\")\n",
    "num = int(input(\"Enter any number : \" ))\n",
    "\n",
    "if num < 1:\n",
    "    print(\"Number needs to be greater than 1\")\n",
    "elif num == 1:\n",
    "    print(num, \"is neither prime nor composite\")\n",
    "else:\n",
    "    for divisor in range(2, (num//2)+1):\n",
    "        if ( (num % divisor) == 0 ):\n",
    "            print(num, \" is a Composite Number\")\n",
    "            break\n",
    "        else:\n",
    "            print(num, \"is a Prime number\")"
   ]
  },
  {
   "cell_type": "code",
   "execution_count": 63,
   "id": "13672b6e",
   "metadata": {},
   "outputs": [
    {
     "name": "stdout",
     "output_type": "stream",
     "text": [
      "Write a python program to check whether a given string is palindrome or not.\n",
      "Solution:\n",
      "Enter String civic\n",
      "the string is palindrome\n"
     ]
    }
   ],
   "source": [
    "print (\"Write a python program to check whether a given string is palindrome or not.\")\n",
    "print (\"Solution:\")\n",
    "a=input (\"Enter String \" )\n",
    "b=a[-1::-1]\n",
    "if(a==b):\n",
    "    print(\"the string is palindrome\")\n",
    "else:\n",
    "    print(\"The string is not a palindrome\")"
   ]
  },
  {
   "cell_type": "code",
   "execution_count": 4,
   "id": "2b62217b",
   "metadata": {},
   "outputs": [
    {
     "name": "stdout",
     "output_type": "stream",
     "text": [
      "Write a Python program to get the third side of right-angled triangle from two given sides.\n",
      "Solution:\n",
      "Hypotenuse = 5.0\n",
      "Adjacent = 4.0\n",
      "Opposite = 3.0\n",
      "You get the right answer!\n"
     ]
    }
   ],
   "source": [
    "print (\"Write a Python program to get the third side of right-angled triangle from two given sides.\")\n",
    "print(\"Solution:\")\n",
    "def pythagoras(oppo_side,adj_side,hypo):\n",
    "    if oppo_side == str(\"x\"):\n",
    "        return (\"Opposite = \" + str(((hypo**2) - (adj_side**2))**0.5))\n",
    "    elif adj_side == str(\"x\"):\n",
    "        return (\"Adjacent = \" + str(((hypo**2) - (oppo_side**2))**0.5))\n",
    "    elif hypo == str(\"x\"):\n",
    "        return (\"Hypotenuse = \" + str(((oppo_side**2) + (adj_side**2))**0.5))\n",
    "    else:\n",
    "        return \"You get the right answer!\"\n",
    "    \n",
    "    \n",
    "print(pythagoras(3,4,'x'))\n",
    "print(pythagoras(3,'x',5))\n",
    "print(pythagoras('x',4,5))\n",
    "print(pythagoras(3,4,5))\n",
    "        "
   ]
  },
  {
   "cell_type": "code",
   "execution_count": 5,
   "id": "1aca1d80",
   "metadata": {},
   "outputs": [
    {
     "name": "stdout",
     "output_type": "stream",
     "text": [
      "Write a python program to print the frequency of each of the characters present in a given string\n",
      "Solution:\n",
      "Enter any String Hey, how are you?\n",
      "Enter search character h\n",
      "Number of times found = 1\n"
     ]
    }
   ],
   "source": [
    "print (\"Write a python program to print the frequency of each of the characters present in a given string\")\n",
    "print (\"Solution:\")\n",
    "s=input(\"Enter any String \" )\n",
    "ch = input(\"Enter search character \")\n",
    "f = 0\n",
    "for i in s:\n",
    "    if i == ch:\n",
    "        f=f+1\n",
    "print(\"Number of times found =\",f)"
   ]
  }
 ],
 "metadata": {
  "kernelspec": {
   "display_name": "Python 3 (ipykernel)",
   "language": "python",
   "name": "python3"
  },
  "language_info": {
   "codemirror_mode": {
    "name": "ipython",
    "version": 3
   },
   "file_extension": ".py",
   "mimetype": "text/x-python",
   "name": "python",
   "nbconvert_exporter": "python",
   "pygments_lexer": "ipython3",
   "version": "3.9.12"
  }
 },
 "nbformat": 4,
 "nbformat_minor": 5
}
